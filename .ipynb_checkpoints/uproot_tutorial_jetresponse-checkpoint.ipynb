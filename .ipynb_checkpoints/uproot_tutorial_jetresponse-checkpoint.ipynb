{
 "cells": [
  {
   "cell_type": "markdown",
   "metadata": {},
   "source": [
    "# Plot the jet $p_T$ response as a function of gen jet $p_T$"
   ]
  },
  {
   "cell_type": "code",
   "execution_count": 1,
   "metadata": {},
   "outputs": [],
   "source": [
    "import uproot\n",
    "import uproot_methods\n",
    "import awkward\n",
    "import matplotlib.pyplot as plt\n",
    "import numpy as np\n"
   ]
  },
  {
   "cell_type": "markdown",
   "metadata": {},
   "source": [
    "## Get a list of the four-vectors from AK4 RECO and GEN jets"
   ]
  },
  {
   "cell_type": "code",
   "execution_count": 2,
   "metadata": {},
   "outputs": [],
   "source": [
    "\n",
    "\n",
    "T = uproot.open(\"QCD_Pt-15to7000_TuneCP5_Flat_13TeV_pythia8_RunIIFall17NanoAODv4_example.root\")[\"Events\"]\n",
    "\n",
    "\n",
    "ja = T.arrays(['Jet_pt', 'Jet_eta', 'Jet_phi', 'Jet_mass'])\n",
    "ga = T.arrays(['GenJet_pt', 'GenJet_eta', 'GenJet_phi', 'GenJet_mass'])\n",
    "\n",
    "Jet_pt = ja[b'Jet_pt']\n",
    "Jet_eta = ja[b'Jet_eta']\n",
    "Jet_phi = ja[b'Jet_phi']\n",
    "Jet_mass = ja[b'Jet_mass']\n",
    "GenJet_pt = ga[b'GenJet_pt']\n",
    "GenJet_eta = ga[b'GenJet_eta']\n",
    "GenJet_phi = ga[b'GenJet_phi']\n",
    "GenJet_mass = ga[b'GenJet_mass']\n",
    "\n",
    "\n",
    "jets = uproot_methods.TLorentzVectorArray.from_ptetaphim(Jet_pt, Jet_eta, Jet_phi, Jet_mass)\n",
    "genjets = uproot_methods.TLorentzVectorArray.from_ptetaphim(GenJet_pt, GenJet_eta, GenJet_phi, GenJet_mass)"
   ]
  },
  {
   "cell_type": "markdown",
   "metadata": {},
   "source": [
    "## To avoid huge cross-listings, put a minimum $p_T$ requirement on the reco and gen jets"
   ]
  },
  {
   "cell_type": "code",
   "execution_count": 4,
   "metadata": {
    "scrolled": false
   },
   "outputs": [],
   "source": [
    "goodjets_index = jets.pt > 30.\n",
    "goodgens_index = genjets.pt > 10.\n",
    "goodjets = jets[goodjets_index]\n",
    "goodgens = genjets[goodgens_index]\n"
   ]
  },
  {
   "cell_type": "markdown",
   "metadata": {},
   "source": [
    "## Create an exhaustive list of (reco,gen) pairings. Create the metric of $\\Delta R(reco,gen)$"
   ]
  },
  {
   "cell_type": "code",
   "execution_count": 5,
   "metadata": {},
   "outputs": [],
   "source": [
    "pairing = goodjets.cross(goodgens, nested=True)\n",
    "metric = pairing.i0.delta_r(pairing.i1)\n"
   ]
  },
  {
   "cell_type": "markdown",
   "metadata": {},
   "source": [
    "## Find the best gen jet that matches each reco jet. Require $\\Delta R(reco,gen) < 0.4$"
   ]
  },
  {
   "cell_type": "code",
   "execution_count": 6,
   "metadata": {},
   "outputs": [],
   "source": [
    "index_of_minimized = metric.argmin()\n",
    "passes_cut = (metric[index_of_minimized] < 0.4)\n",
    "best_pairings_that_pass_cut = pairing[index_of_minimized][passes_cut]\n",
    "genrecos = best_pairings_that_pass_cut.flatten(axis=1)"
   ]
  },
  {
   "cell_type": "markdown",
   "metadata": {},
   "source": [
    "## Now calculate whatever responses you want"
   ]
  },
  {
   "cell_type": "code",
   "execution_count": 12,
   "metadata": {},
   "outputs": [],
   "source": [
    "ptresponse = genrecos.i0.pt / genrecos.i1.pt"
   ]
  },
  {
   "cell_type": "markdown",
   "metadata": {},
   "source": [
    "## And plot them\n",
    "\n",
    "NOTE: Not plotting bins with fewer than 10 entries"
   ]
  },
  {
   "cell_type": "code",
   "execution_count": 36,
   "metadata": {},
   "outputs": [],
   "source": [
    "# Set fonts (from https://stackoverflow.com/questions/3899980/how-to-change-the-font-size-on-a-matplotlib-plot)\n",
    "SMALL_SIZE = 14\n",
    "MEDIUM_SIZE = 18\n",
    "BIGGER_SIZE = 24\n",
    "\n",
    "plt.rc('font', size=SMALL_SIZE)          # controls default text sizes\n",
    "plt.rc('axes', titlesize=SMALL_SIZE)     # fontsize of the axes title\n",
    "plt.rc('axes', labelsize=MEDIUM_SIZE)    # fontsize of the x and y labels\n",
    "plt.rc('xtick', labelsize=SMALL_SIZE)    # fontsize of the tick labels\n",
    "plt.rc('ytick', labelsize=SMALL_SIZE)    # fontsize of the tick labels\n",
    "plt.rc('legend', fontsize=SMALL_SIZE)    # legend fontsize\n",
    "plt.rc('figure', titlesize=BIGGER_SIZE)  # fontsize of the figure title"
   ]
  },
  {
   "cell_type": "code",
   "execution_count": 37,
   "metadata": {},
   "outputs": [
    {
     "data": {
      "image/png": "[encoded data removed]",
      "text/plain": [
       "<Figure size 864x576 with 1 Axes>"
      ]
     },
     "metadata": {
      "needs_background": "light"
     },
     "output_type": "display_data"
    }
   ],
   "source": [
    "rbins = [i * 0.01 for i in range(300)]\n",
    "ptbins = [10,20,30,40,50,60,80,100,150,200,250,300,350,400,500,600,700,800,900,1000]\n",
    "plt.figure(1, figsize=(12,8))\n",
    "plt.hist2d(x=genrecos.i1.pt.flatten(), y=ptresponse.flatten(), bins=[ptbins,rbins], cmin=10)\n",
    "plt.xlabel(r\"$p_{T}^{gen}$\")\n",
    "plt.ylabel(r\"$p_{T}^{reco} / p_{T}^{gen}$\")\n",
    "plt.show()\n"
   ]
  },
  {
   "cell_type": "code",
   "execution_count": null,
   "metadata": {},
   "outputs": [],
   "source": []
  }
 ],
 "metadata": {
  "kernelspec": {
   "display_name": "Python 3",
   "language": "python",
   "name": "python3"
  },
  "language_info": {
   "codemirror_mode": {
    "name": "ipython",
    "version": 3
   },
   "file_extension": ".py",
   "mimetype": "text/x-python",
   "name": "python",
   "nbconvert_exporter": "python",
   "pygments_lexer": "ipython3",
   "version": "3.6.8"
  }
 },
 "nbformat": 4,
 "nbformat_minor": 2
}
